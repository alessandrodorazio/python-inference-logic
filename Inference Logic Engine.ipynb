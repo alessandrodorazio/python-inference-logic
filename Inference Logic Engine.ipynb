{
 "cells": [
  {
   "cell_type": "markdown",
   "id": "d2caf97b",
   "metadata": {},
   "source": [
    "# Inference logic\n",
    "\n",
    "The codebase is composed by three classes:\n",
    "1. Facts\n",
    "2. Rules\n",
    "3. Inference Engine\n",
    "\n",
    "Each fact_name(a, b) has two properties:\n",
    "- name (i.e. predicate): fact_name\n",
    "- attributes: a, b\n",
    "\n",
    "Facts contains only constants. A constant must start with a lowercase.\n",
    "\n",
    "Each rule contains two facts:\n",
    "- An antecedent\n",
    "- A consequent: true if the antecedent is true\n",
    "\n",
    "Facts in a rule can contains variables. A variable must start with an uppercase."
   ]
  },
  {
   "cell_type": "code",
   "execution_count": 1,
   "id": "4311da83",
   "metadata": {},
   "outputs": [],
   "source": [
    "class Fact: # TODO: class diagrams\n",
    "    def __init__(self, name, attributes):\n",
    "        self.name = name\n",
    "        self.attributes = attributes\n",
    "        \n",
    "    def __eq__(self, other):\n",
    "        if isinstance(other, Fact):\n",
    "            return self.name == other.name and self.attributes == other.attributes"
   ]
  },
  {
   "cell_type": "code",
   "execution_count": 2,
   "id": "4f9cd599",
   "metadata": {},
   "outputs": [],
   "source": [
    "class Rule:\n",
    "    def __init__(self, antecedent, consequent):\n",
    "        self.antecedent = antecedent\n",
    "        self.consequent = consequent"
   ]
  },
  {
   "cell_type": "markdown",
   "id": "bb8bcefb",
   "metadata": {},
   "source": [
    "## How this inference work\n",
    "\n",
    "In this case, the inference model will try to search with a for-loop if there exists at least one rule in which the name is the same of the one on the query, and if there exists a combination of variables where the rule is satisfied"
   ]
  },
  {
   "cell_type": "code",
   "execution_count": 3,
   "id": "72a3f19e",
   "metadata": {},
   "outputs": [],
   "source": [
    "class InferenceEngine:\n",
    "    def __init__(self):\n",
    "        self.facts = []\n",
    "        self.rules = []\n",
    "\n",
    "    def add_fact(self, fact):\n",
    "        self.facts.append(fact)\n",
    "\n",
    "    def add_rule(self, antecedent, consequent):\n",
    "        self.rules.append(Rule(antecedent, consequent))\n",
    "        \n",
    "    def is_variable(self, term):\n",
    "        return term[0].isupper()\n",
    "    \n",
    "    def unify(self, fact1_attrs, fact2_attrs):\n",
    "        substitution = {}\n",
    "        for attr1, attr2 in zip(fact1_attrs, fact2_attrs):\n",
    "            if self.is_variable(attr1):\n",
    "                substitution[attr1] = attr2\n",
    "            elif self.is_variable(attr2):\n",
    "                substitution[attr2] = attr1\n",
    "            elif attr1 != attr2:\n",
    "                return None\n",
    "        return substitution\n",
    "    \n",
    "    def inference(self, query_facts):\n",
    "        for rule in self.rules:\n",
    "            for fact in self.facts:\n",
    "                if rule.antecedent.name == fact.name:\n",
    "                    substitution = self.unify(rule.antecedent.attributes, fact.attributes)\n",
    "                    if substitution is not None:\n",
    "                        infered_fact = Fact(rule.consequent.name, [substitution.get(attr, attr) for attr in rule.consequent.attributes])\n",
    "                        if infered_fact in query_facts:\n",
    "                            return True\n",
    "        return False"
   ]
  },
  {
   "cell_type": "markdown",
   "id": "499e9293",
   "metadata": {},
   "source": [
    "## Example"
   ]
  },
  {
   "cell_type": "code",
   "execution_count": 4,
   "id": "6dcd4cd8",
   "metadata": {},
   "outputs": [
    {
     "name": "stdout",
     "output_type": "stream",
     "text": [
      "Rule verified\n"
     ]
    }
   ],
   "source": [
    "engine = InferenceEngine()\n",
    "\n",
    "engine.add_fact(Fact(\"dad\", [\"dom\", \"ale\"]))\n",
    "\n",
    "engine.add_rule(Fact(\"dad\", [\"X\", \"Y\"]), Fact(\"son\", [\"Y\", \"X\"]))\n",
    "\n",
    "result = engine.inference([Fact(\"son\", [\"ale\", \"dom\"])])\n",
    "\n",
    "if result:\n",
    "    print(\"Rule verified\")\n",
    "else:\n",
    "    print(\"Rule not verified\")"
   ]
  },
  {
   "cell_type": "markdown",
   "id": "9298932b",
   "metadata": {},
   "source": [
    "# Multiple antecedents"
   ]
  },
  {
   "cell_type": "code",
   "execution_count": 5,
   "id": "0e49a36a",
   "metadata": {},
   "outputs": [],
   "source": [
    "from itertools import product\n",
    "import time"
   ]
  },
  {
   "cell_type": "code",
   "execution_count": 6,
   "id": "db79cedf",
   "metadata": {},
   "outputs": [],
   "source": [
    "class Rule:\n",
    "    def __init__(self, antecedents, consequent):\n",
    "        self.antecedents = antecedents  # now this is a list\n",
    "        self.consequent = consequent"
   ]
  },
  {
   "cell_type": "code",
   "execution_count": 7,
   "id": "705173be",
   "metadata": {},
   "outputs": [],
   "source": [
    "def add_rule_v2(self, antecedents, consequent):\n",
    "    self.rules.append(Rule(antecedents, consequent))\n",
    "\n",
    "def inference_v2(self, query_facts):\n",
    "    for query_fact in query_facts:\n",
    "        for rule in self.rules:\n",
    "            matched_facts = []\n",
    "            for antecedent in rule.antecedents:  # iteration on multiple antecedents\n",
    "                for fact in self.facts:\n",
    "                    if antecedent.name == fact.name:\n",
    "                        substitution = self.unify(antecedent.attributes, fact.attributes)\n",
    "                        if substitution is not None:\n",
    "                            matched_facts.append(substitution)\n",
    "\n",
    "            # Verifica che tutti gli antecedenti abbiano fatti corrispondenti\n",
    "            if len(matched_facts) == len(rule.antecedents):\n",
    "                # Unificazione delle sostituzioni\n",
    "                unified_substitution = {}\n",
    "                for substitution in matched_facts:\n",
    "                    unified_substitution.update(substitution)\n",
    "\n",
    "                inferred_fact = Fact(rule.consequent.name, [unified_substitution.get(attr, attr) for attr in rule.consequent.attributes])\n",
    "                if inferred_fact == query_fact:\n",
    "                    return True\n",
    "    return False\n",
    "\n",
    "InferenceEngine.add_rule = add_rule_v2\n",
    "InferenceEngine.inference = inference_v2"
   ]
  },
  {
   "cell_type": "code",
   "execution_count": 8,
   "id": "f4706d5c",
   "metadata": {},
   "outputs": [
    {
     "name": "stdout",
     "output_type": "stream",
     "text": [
      "Rule verified\n"
     ]
    }
   ],
   "source": [
    "engine = InferenceEngine()\n",
    "engine.add_fact(Fact(\"dad\", [\"dom\", \"ale\"]))\n",
    "engine.add_fact(Fact(\"mom\", [\"ria\", \"ale\"]))\n",
    "\n",
    "engine.add_rule([Fact(\"dad\", [\"X\", \"Y\"]), Fact(\"mom\", [\"Z\", \"Y\"])], Fact(\"child\", [\"Y\", \"X\", \"Z\"]))\n",
    "\n",
    "result = engine.inference([Fact(\"child\", [\"ale\", \"dom\", \"ria\"])])\n",
    "\n",
    "if result:\n",
    "    print(\"Rule verified\")\n",
    "else:\n",
    "    print(\"Rule not verified\")"
   ]
  },
  {
   "cell_type": "markdown",
   "id": "e74ce138",
   "metadata": {},
   "source": [
    "# Multiple consequentes"
   ]
  },
  {
   "cell_type": "code",
   "execution_count": 9,
   "id": "f0406d06",
   "metadata": {},
   "outputs": [],
   "source": [
    "class Rule:\n",
    "    def __init__(self, antecedents, consequents):\n",
    "        self.antecedents = antecedents\n",
    "        self.consequents = consequents # now this is a list"
   ]
  },
  {
   "cell_type": "code",
   "execution_count": 10,
   "id": "54f97571",
   "metadata": {},
   "outputs": [],
   "source": [
    "def add_rule_v3(self, antecedents, consequents):\n",
    "    self.rules.append(Rule(antecedents, consequents))\n",
    "    \n",
    "def inference_v3(self, query_facts):\n",
    "    results = [False] * len(query_facts)\n",
    "\n",
    "    for rule in self.rules:\n",
    "        all_matched_facts = []\n",
    "\n",
    "        for antecedent in rule.antecedents:\n",
    "            matched_facts_for_antecedent = []\n",
    "\n",
    "            for fact in self.facts:\n",
    "                if antecedent.name == fact.name:\n",
    "                    substitution = self.unify(antecedent.attributes, fact.attributes)\n",
    "                    if substitution is not None:\n",
    "                        matched_facts_for_antecedent.append(substitution)\n",
    "\n",
    "            all_matched_facts.append(matched_facts_for_antecedent)\n",
    "\n",
    "        for combined_matched_facts in product(*all_matched_facts):\n",
    "            unified_substitution = {}\n",
    "\n",
    "            for substitution in combined_matched_facts:\n",
    "                unified_substitution.update(substitution)\n",
    "\n",
    "            for i, query_fact in enumerate(query_facts):\n",
    "                for consequent in rule.consequents:\n",
    "                    inferred_fact = Fact(consequent.name, [unified_substitution.get(attr, attr) for attr in consequent.attributes])\n",
    "                    if inferred_fact == query_fact:\n",
    "                        results[i] = True\n",
    "\n",
    "    return results\n",
    "\n",
    "\n",
    "InferenceEngine.add_rule = add_rule_v3\n",
    "InferenceEngine.inference = inference_v3"
   ]
  },
  {
   "cell_type": "code",
   "execution_count": 11,
   "id": "feabc675",
   "metadata": {},
   "outputs": [
    {
     "name": "stdout",
     "output_type": "stream",
     "text": [
      "[True, True]\n"
     ]
    }
   ],
   "source": [
    "# Esempio di utilizzo\n",
    "engine = InferenceEngine()\n",
    "engine.add_fact(Fact(\"dad\", [\"dom\", \"ale\"]))\n",
    "engine.add_fact(Fact(\"mom\", [\"ria\", \"ale\"]))\n",
    "\n",
    "engine.add_rule(\n",
    "    [Fact(\"dad\", [\"X\", \"Y\"]), Fact(\"mom\", [\"Z\", \"Y\"])], \n",
    "    [Fact(\"child\", [\"Y\", \"X\", \"Z\"]), Fact(\"son\", [\"Y\", \"X\"]), Fact(\"son\", [\"Y\", \"X\"])]\n",
    ")\n",
    "\n",
    "# Query\n",
    "facts_to_inference = []\n",
    "facts_to_inference.append(Fact(\"child\", [\"ale\", \"dom\", \"ria\"]))\n",
    "facts_to_inference.append(Fact(\"son\", [\"ale\", \"dom\"]))\n",
    "\n",
    "query = engine.inference(facts_to_inference)\n",
    "\n",
    "print(query)"
   ]
  },
  {
   "cell_type": "markdown",
   "id": "a48b0dfd",
   "metadata": {},
   "source": [
    "# Adding variables in query"
   ]
  },
  {
   "cell_type": "code",
   "execution_count": 19,
   "id": "7f912e88",
   "metadata": {},
   "outputs": [],
   "source": [
    "def inference_v4(self, query_facts):\n",
    "    results = [[] for _ in range(len(query_facts))]\n",
    "\n",
    "    for rule in self.rules:\n",
    "        all_matched_facts = []\n",
    "\n",
    "        for antecedent in rule.antecedents:\n",
    "            matched_facts_for_antecedent = []\n",
    "\n",
    "            for fact in self.facts:\n",
    "                if antecedent.name == fact.name:\n",
    "                    substitution = self.unify(antecedent.attributes, fact.attributes)\n",
    "                    if substitution is not None:\n",
    "                        matched_facts_for_antecedent.append(substitution)\n",
    "\n",
    "            all_matched_facts.append(matched_facts_for_antecedent)\n",
    "\n",
    "        for combined_matched_facts in product(*all_matched_facts):\n",
    "            unified_substitution = {}\n",
    "\n",
    "            for substitution in combined_matched_facts:\n",
    "                unified_substitution.update(substitution)\n",
    "\n",
    "            for i, query_fact in enumerate(query_facts):\n",
    "                for consequent in rule.consequents:\n",
    "                    inferred_fact = Fact(consequent.name, [unified_substitution.get(attr, attr) for attr in consequent.attributes])\n",
    "\n",
    "                    query_substitution = self.unify(inferred_fact.attributes, query_fact.attributes)\n",
    "                    if query_substitution is not None:\n",
    "                        results[i].append(query_substitution)\n",
    "\n",
    "    return results\n",
    "\n",
    "def inference_exists(self, query_facts): # renaming this\n",
    "    results = [False] * len(query_facts)\n",
    "\n",
    "    for rule in self.rules:\n",
    "        all_matched_facts = []\n",
    "\n",
    "        for antecedent in rule.antecedents:\n",
    "            matched_facts_for_antecedent = []\n",
    "\n",
    "            for fact in self.facts:\n",
    "                if antecedent.name == fact.name:\n",
    "                    substitution = self.unify(antecedent.attributes, fact.attributes)\n",
    "                    if substitution is not None:\n",
    "                        matched_facts_for_antecedent.append(substitution)\n",
    "\n",
    "            all_matched_facts.append(matched_facts_for_antecedent)\n",
    "\n",
    "        for combined_matched_facts in product(*all_matched_facts):\n",
    "            unified_substitution = {}\n",
    "\n",
    "            for substitution in combined_matched_facts:\n",
    "                unified_substitution.update(substitution)\n",
    "\n",
    "            for i, query_fact in enumerate(query_facts):\n",
    "                for consequent in rule.consequents:\n",
    "                    inferred_fact = Fact(consequent.name, [unified_substitution.get(attr, attr) for attr in consequent.attributes])\n",
    "                    if inferred_fact == query_fact:\n",
    "                        results[i] = True\n",
    "\n",
    "    return results\n",
    "\n",
    "InferenceEngine.inference = inference_v4\n",
    "InferenceEngine.inference_exists = inference_exists"
   ]
  },
  {
   "cell_type": "code",
   "execution_count": 20,
   "id": "9d706988",
   "metadata": {},
   "outputs": [
    {
     "name": "stdout",
     "output_type": "stream",
     "text": [
      "[[{}, {}, {}], [{'X': 'dom'}, {'X': 'dom'}, {'X': 'dom'}]]\n",
      "Time taken for inference: 0.000277 seconds\n"
     ]
    }
   ],
   "source": [
    "engine = InferenceEngine()\n",
    "engine.add_fact(Fact(\"dad\", [\"dom\", \"ale\"]))\n",
    "engine.add_fact(Fact(\"mom\", [\"ria\", \"ale\"]))\n",
    "\n",
    "engine.add_rule(\n",
    "    [Fact(\"dad\", [\"X\", \"Y\"]), Fact(\"mom\", [\"Z\", \"Y\"])], \n",
    "    [Fact(\"child\", [\"Y\", \"X\", \"Z\"]), Fact(\"son\", [\"Y\", \"X\"]), Fact(\"son\", [\"Y\", \"X\"])]\n",
    ")\n",
    "\n",
    "start_time = time.time()\n",
    "\n",
    "facts_to_inference = []\n",
    "facts_to_inference.append(Fact(\"child\", [\"ale\", \"dom\", \"ria\"]))\n",
    "facts_to_inference.append(Fact(\"son\", [\"ale\", \"X\"]))\n",
    "\n",
    "query = engine.inference(facts_to_inference)\n",
    "end_time = time.time()\n",
    "elapsed_time = end_time - start_time\n",
    "\n",
    "print(query)\n",
    "    \n",
    "print(f\"Time taken for inference: {elapsed_time:.6f} seconds\")\n"
   ]
  },
  {
   "cell_type": "markdown",
   "id": "a6214c79",
   "metadata": {},
   "source": [
    "## Load facts and rules from file\n",
    "\n",
    "```\n",
    "fact_name(a,b).\n",
    "rule_name(A,B) -> derived_fact(B,A).\n",
    "```"
   ]
  },
  {
   "cell_type": "code",
   "execution_count": 14,
   "id": "183a7234",
   "metadata": {},
   "outputs": [],
   "source": [
    "import re\n",
    "\n",
    "def load_from_file(engine, filename):\n",
    "    with open(filename, 'r') as f:\n",
    "        lines = f.readlines()\n",
    "\n",
    "    for line in lines:\n",
    "        line = line.strip().strip('.')  # Rimuove spazi bianchi, newline e il punto finale\n",
    "\n",
    "        # Se la linea è una regola\n",
    "        if '->' in line:\n",
    "            antecedent_str, consequent_str = line.split('->')\n",
    "            antecedents = [parse_fact(fact.strip()) for fact in antecedent_str.split('&')]\n",
    "            consequents = [parse_fact(fact.strip()) for fact in consequent_str.split('&')]\n",
    "            \n",
    "            # Aggiunge una sola regola con più antecedenti e conseguenti\n",
    "            engine.add_rule(antecedents, consequents)\n",
    "\n",
    "        # Se la linea è un fatto\n",
    "        else:\n",
    "            fact = parse_fact(line)\n",
    "            engine.add_fact(fact)\n",
    "\n",
    "def parse_fact(fact_str):\n",
    "    # Utilizzo di espressioni regolari per estrarre il nome e gli attributi del fatto\n",
    "    m = re.match(r\"(\\w+)\\(([^)]+)\\)\", fact_str)\n",
    "    if m:\n",
    "        name, attrs = m.groups()\n",
    "        attrs = attrs.split(',')\n",
    "        attrs = [attr.strip() for attr in attrs]\n",
    "        return Fact(name, attrs)\n",
    "\n"
   ]
  },
  {
   "cell_type": "code",
   "execution_count": 15,
   "id": "306bc2ae",
   "metadata": {},
   "outputs": [],
   "source": [
    "engine = InferenceEngine()\n",
    "load_from_file(engine, 'rules_and_facts.txt')"
   ]
  },
  {
   "cell_type": "code",
   "execution_count": 25,
   "id": "0214b504",
   "metadata": {},
   "outputs": [
    {
     "data": {
      "text/plain": [
       "[False]"
      ]
     },
     "execution_count": 25,
     "metadata": {},
     "output_type": "execute_result"
    }
   ],
   "source": [
    "facts_to_inference = [\n",
    "    Fact(\"son\", [\"ale\", \"X\"])\n",
    "]\n",
    "\n",
    "engine.inference_exists(facts_to_inference)"
   ]
  },
  {
   "cell_type": "code",
   "execution_count": 21,
   "id": "0d32ce61",
   "metadata": {},
   "outputs": [
    {
     "data": {
      "text/plain": [
       "[[{'X': 'dom'}, {'X': 'dom'}, {'X': 'dom'}]]"
      ]
     },
     "execution_count": 21,
     "metadata": {},
     "output_type": "execute_result"
    }
   ],
   "source": [
    "facts_to_inference = [\n",
    "    Fact(\"son\", [\"ale\", \"X\"])\n",
    "]\n",
    "\n",
    "engine.inference(facts_to_inference)"
   ]
  },
  {
   "cell_type": "markdown",
   "id": "00836088",
   "metadata": {},
   "source": [
    "# Performance analysis"
   ]
  },
  {
   "cell_type": "markdown",
   "id": "2f74d677",
   "metadata": {},
   "source": [
    "WIP"
   ]
  }
 ],
 "metadata": {
  "kernelspec": {
   "display_name": "Python 3 (ipykernel)",
   "language": "python",
   "name": "python3"
  },
  "language_info": {
   "codemirror_mode": {
    "name": "ipython",
    "version": 3
   },
   "file_extension": ".py",
   "mimetype": "text/x-python",
   "name": "python",
   "nbconvert_exporter": "python",
   "pygments_lexer": "ipython3",
   "version": "3.11.3"
  }
 },
 "nbformat": 4,
 "nbformat_minor": 5
}
